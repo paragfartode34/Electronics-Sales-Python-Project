{
 "cells": [
  {
   "cell_type": "markdown",
   "id": "183ffb44",
   "metadata": {
    "_cell_guid": "b1076dfc-b9ad-4769-8c92-a6c4dae69d19",
    "_uuid": "8f2839f25d086af736a60e9eeb907d3b93b6e0e5",
    "papermill": {
     "duration": 0.017714,
     "end_time": "2024-04-09T13:57:35.129236",
     "exception": false,
     "start_time": "2024-04-09T13:57:35.111522",
     "status": "completed"
    },
    "tags": []
   },
   "source": [
    " Project: Electronic Sales Analsis\n",
    "\n",
    "Dataset : electronic-sale\n",
    "\n",
    "Introduction 👋 Hello, everyone! My name is Parag Narendra Fartode, and I'm delighted to introduce myself to you. I am a Junior Data Analyst passionate about leveraging data to derive meaningful insights and drive impactful decisions. With a keen interest in exploring the realms of data science, I actively engage in various projects and share my learnings through platforms like Kaggle.¶\n",
    "\n",
    "About Me 🔍 As a Junior Data Scientist, I immerse myself in the world of data, constantly seeking innovative ways to analyze, interpret, and visualize information to solve real-world problems. My journey in data science is fueled by a curiosity to unravel patterns, discover trends, and uncover hidden insights within complex datasets.\n",
    "\n",
    "My Work 📊 I regularly upload my data analysis notebooks and projects on Kaggle, where I showcase my skills in data manipulation, exploratory data analysis (EDA), machine learning, and more. Through these notebooks, I aim to contribute to the data science community by sharing methodologies, code snippets, and insights gained from my projects.\n",
    "\n",
    "Passion & Goals 💡 My passion for data science extends beyond technical skills. I am dedicated to continuous learning and improvement, staying updated with the latest advancements in the field. My ultimate goal is to harness the power of data to make a positive impact on society, whether it's through enhancing business strategies, addressing societal challenges, or driving innovation in various domains.\n",
    "\n",
    "Let's Connect 🤝 I am always open to collaboration, knowledge sharing, and networking opportunities. Feel free to connect with me on Kaggle or other professional platforms to discuss data science, share ideas, or explore potential collaborations\n",
    "  "
   ]
  },
  {
   "cell_type": "markdown",
   "id": "7888ad42",
   "metadata": {
    "papermill": {
     "duration": 0.01519,
     "end_time": "2024-04-09T13:57:35.161000",
     "exception": false,
     "start_time": "2024-04-09T13:57:35.145810",
     "status": "completed"
    },
    "tags": []
   },
   "source": [
    "# **Library Importing**"
   ]
  },
  {
   "cell_type": "code",
   "execution_count": 1,
   "id": "3edecea0",
   "metadata": {
    "execution": {
     "iopub.execute_input": "2024-04-09T13:57:35.195250Z",
     "iopub.status.busy": "2024-04-09T13:57:35.193916Z",
     "iopub.status.idle": "2024-04-09T13:57:37.902911Z",
     "shell.execute_reply": "2024-04-09T13:57:37.901248Z"
    },
    "papermill": {
     "duration": 2.729242,
     "end_time": "2024-04-09T13:57:37.905954",
     "exception": false,
     "start_time": "2024-04-09T13:57:35.176712",
     "status": "completed"
    },
    "tags": []
   },
   "outputs": [],
   "source": [
    "# importing librarys\n",
    "import pandas as pd \n",
    "import matplotlib.pyplot as plt\n",
    "import numpy as np\n",
    "import seaborn as sns\n",
    "import warnings\n",
    "warnings.filterwarnings('ignore')"
   ]
  },
  {
   "cell_type": "markdown",
   "id": "e48aad9a",
   "metadata": {
    "papermill": {
     "duration": 0.015529,
     "end_time": "2024-04-09T13:57:37.938524",
     "exception": false,
     "start_time": "2024-04-09T13:57:37.922995",
     "status": "completed"
    },
    "tags": []
   },
   "source": [
    "# **Data Loading**"
   ]
  },
  {
   "cell_type": "code",
   "execution_count": 2,
   "id": "b247abf0",
   "metadata": {
    "execution": {
     "iopub.execute_input": "2024-04-09T13:57:37.971917Z",
     "iopub.status.busy": "2024-04-09T13:57:37.971359Z",
     "iopub.status.idle": "2024-04-09T13:57:39.381783Z",
     "shell.execute_reply": "2024-04-09T13:57:39.380492Z"
    },
    "papermill": {
     "duration": 1.429975,
     "end_time": "2024-04-09T13:57:39.384594",
     "exception": false,
     "start_time": "2024-04-09T13:57:37.954619",
     "status": "completed"
    },
    "tags": []
   },
   "outputs": [],
   "source": [
    "# importing data\n",
    "df = pd.read_csv('/kaggle/input/electro/sales 2019v2.csv',encoding='unicode_escape')"
   ]
  },
  {
   "cell_type": "markdown",
   "id": "ec6db5e2",
   "metadata": {
    "papermill": {
     "duration": 0.01639,
     "end_time": "2024-04-09T13:57:39.416414",
     "exception": false,
     "start_time": "2024-04-09T13:57:39.400024",
     "status": "completed"
    },
    "tags": []
   },
   "source": [
    "# **Data Size Analysis**"
   ]
  },
  {
   "cell_type": "code",
   "execution_count": 3,
   "id": "d671f2d4",
   "metadata": {
    "execution": {
     "iopub.execute_input": "2024-04-09T13:57:39.450419Z",
     "iopub.status.busy": "2024-04-09T13:57:39.450017Z",
     "iopub.status.idle": "2024-04-09T13:57:39.493319Z",
     "shell.execute_reply": "2024-04-09T13:57:39.491950Z"
    },
    "papermill": {
     "duration": 0.064083,
     "end_time": "2024-04-09T13:57:39.496221",
     "exception": false,
     "start_time": "2024-04-09T13:57:39.432138",
     "status": "completed"
    },
    "tags": []
   },
   "outputs": [
    {
     "data": {
      "text/html": [
       "<div>\n",
       "<style scoped>\n",
       "    .dataframe tbody tr th:only-of-type {\n",
       "        vertical-align: middle;\n",
       "    }\n",
       "\n",
       "    .dataframe tbody tr th {\n",
       "        vertical-align: top;\n",
       "    }\n",
       "\n",
       "    .dataframe thead th {\n",
       "        text-align: right;\n",
       "    }\n",
       "</style>\n",
       "<table border=\"1\" class=\"dataframe\">\n",
       "  <thead>\n",
       "    <tr style=\"text-align: right;\">\n",
       "      <th></th>\n",
       "      <th>Order ID</th>\n",
       "      <th>Product</th>\n",
       "      <th>Quantity Ordered</th>\n",
       "      <th>Price Each</th>\n",
       "      <th>Date</th>\n",
       "      <th>Purchase Address</th>\n",
       "      <th>Total Sales</th>\n",
       "      <th>City</th>\n",
       "      <th>State</th>\n",
       "      <th>Purchase Address2</th>\n",
       "      <th>Day</th>\n",
       "      <th>Month</th>\n",
       "      <th>Time</th>\n",
       "      <th>Year</th>\n",
       "      <th>year2</th>\n",
       "      <th>Order Date</th>\n",
       "    </tr>\n",
       "  </thead>\n",
       "  <tbody>\n",
       "    <tr>\n",
       "      <th>0</th>\n",
       "      <td>259358.0</td>\n",
       "      <td>34in Ultrawide Monitor</td>\n",
       "      <td>1.0</td>\n",
       "      <td>379.99</td>\n",
       "      <td>10/28/19 10:56</td>\n",
       "      <td>609 Cherry St, Dallas, TX 75001</td>\n",
       "      <td>379.99</td>\n",
       "      <td>Dallas</td>\n",
       "      <td>TX</td>\n",
       "      <td>609 Cherry St</td>\n",
       "      <td>10.0</td>\n",
       "      <td>28.0</td>\n",
       "      <td>10:56</td>\n",
       "      <td>19 10:56</td>\n",
       "      <td>19.0</td>\n",
       "      <td>28-10-2019</td>\n",
       "    </tr>\n",
       "    <tr>\n",
       "      <th>1</th>\n",
       "      <td>259359.0</td>\n",
       "      <td>27in 4K Gaming Monitor</td>\n",
       "      <td>1.0</td>\n",
       "      <td>389.99</td>\n",
       "      <td>10/28/19 17:26</td>\n",
       "      <td>225 5th St, Los Angeles, CA 90001</td>\n",
       "      <td>389.99</td>\n",
       "      <td>Los Angeles</td>\n",
       "      <td>CA</td>\n",
       "      <td>225 5th St</td>\n",
       "      <td>10.0</td>\n",
       "      <td>28.0</td>\n",
       "      <td>17:26</td>\n",
       "      <td>19 17:26</td>\n",
       "      <td>19.0</td>\n",
       "      <td>28-10-2019</td>\n",
       "    </tr>\n",
       "    <tr>\n",
       "      <th>2</th>\n",
       "      <td>259360.0</td>\n",
       "      <td>AAA Batteries (4-pack)</td>\n",
       "      <td>2.0</td>\n",
       "      <td>2.99</td>\n",
       "      <td>10/24/19 17:20</td>\n",
       "      <td>967 12th St, New York City, NY 10001</td>\n",
       "      <td>5.98</td>\n",
       "      <td>New York City</td>\n",
       "      <td>NY</td>\n",
       "      <td>967 12th St</td>\n",
       "      <td>10.0</td>\n",
       "      <td>24.0</td>\n",
       "      <td>17:20</td>\n",
       "      <td>19 17:20</td>\n",
       "      <td>19.0</td>\n",
       "      <td>24-10-2019</td>\n",
       "    </tr>\n",
       "    <tr>\n",
       "      <th>3</th>\n",
       "      <td>259361.0</td>\n",
       "      <td>27in FHD Monitor</td>\n",
       "      <td>1.0</td>\n",
       "      <td>149.99</td>\n",
       "      <td>10/14/19 22:26</td>\n",
       "      <td>628 Jefferson St, New York City, NY 10001</td>\n",
       "      <td>149.99</td>\n",
       "      <td>New York City</td>\n",
       "      <td>NY</td>\n",
       "      <td>628 Jefferson St</td>\n",
       "      <td>10.0</td>\n",
       "      <td>14.0</td>\n",
       "      <td>22:26</td>\n",
       "      <td>19 22:26</td>\n",
       "      <td>19.0</td>\n",
       "      <td>14-10-2019</td>\n",
       "    </tr>\n",
       "    <tr>\n",
       "      <th>4</th>\n",
       "      <td>259362.0</td>\n",
       "      <td>Wired Headphones</td>\n",
       "      <td>1.0</td>\n",
       "      <td>11.99</td>\n",
       "      <td>10-07-2019 16:10</td>\n",
       "      <td>534 14th St, Los Angeles, CA 90001</td>\n",
       "      <td>11.99</td>\n",
       "      <td>Los Angeles</td>\n",
       "      <td>CA</td>\n",
       "      <td>534 14th St</td>\n",
       "      <td>10.0</td>\n",
       "      <td>7.0</td>\n",
       "      <td>16:10</td>\n",
       "      <td>19 16:10</td>\n",
       "      <td>19.0</td>\n",
       "      <td>07-10-2019</td>\n",
       "    </tr>\n",
       "    <tr>\n",
       "      <th>...</th>\n",
       "      <td>...</td>\n",
       "      <td>...</td>\n",
       "      <td>...</td>\n",
       "      <td>...</td>\n",
       "      <td>...</td>\n",
       "      <td>...</td>\n",
       "      <td>...</td>\n",
       "      <td>...</td>\n",
       "      <td>...</td>\n",
       "      <td>...</td>\n",
       "      <td>...</td>\n",
       "      <td>...</td>\n",
       "      <td>...</td>\n",
       "      <td>...</td>\n",
       "      <td>...</td>\n",
       "      <td>...</td>\n",
       "    </tr>\n",
       "    <tr>\n",
       "      <th>186846</th>\n",
       "      <td>295660.0</td>\n",
       "      <td>AAA Batteries (4-pack)</td>\n",
       "      <td>2.0</td>\n",
       "      <td>2.99</td>\n",
       "      <td>11-04-2019 14:17</td>\n",
       "      <td>574 4th St, Los Angeles, CA 90001</td>\n",
       "      <td>5.98</td>\n",
       "      <td>Los Angeles</td>\n",
       "      <td>CA</td>\n",
       "      <td>574 4th St</td>\n",
       "      <td>11.0</td>\n",
       "      <td>4.0</td>\n",
       "      <td>14:17</td>\n",
       "      <td>19 14:17</td>\n",
       "      <td>19.0</td>\n",
       "      <td>04-11-2019</td>\n",
       "    </tr>\n",
       "    <tr>\n",
       "      <th>186847</th>\n",
       "      <td>295661.0</td>\n",
       "      <td>USB-C Charging Cable</td>\n",
       "      <td>1.0</td>\n",
       "      <td>11.95</td>\n",
       "      <td>11/23/19 07:22</td>\n",
       "      <td>359 1st St, Austin, TX 73301</td>\n",
       "      <td>11.95</td>\n",
       "      <td>Austin</td>\n",
       "      <td>TX</td>\n",
       "      <td>359 1st St</td>\n",
       "      <td>11.0</td>\n",
       "      <td>23.0</td>\n",
       "      <td>07:22</td>\n",
       "      <td>19 07:22</td>\n",
       "      <td>19.0</td>\n",
       "      <td>23-11-2019</td>\n",
       "    </tr>\n",
       "    <tr>\n",
       "      <th>186848</th>\n",
       "      <td>295662.0</td>\n",
       "      <td>Lightning Charging Cable</td>\n",
       "      <td>1.0</td>\n",
       "      <td>14.95</td>\n",
       "      <td>11/13/19 16:12</td>\n",
       "      <td>900 10th St, Boston, MA 02215</td>\n",
       "      <td>14.95</td>\n",
       "      <td>Boston</td>\n",
       "      <td>MA</td>\n",
       "      <td>900 10th St</td>\n",
       "      <td>11.0</td>\n",
       "      <td>13.0</td>\n",
       "      <td>16:12</td>\n",
       "      <td>19 16:12</td>\n",
       "      <td>19.0</td>\n",
       "      <td>13-11-2019</td>\n",
       "    </tr>\n",
       "    <tr>\n",
       "      <th>186849</th>\n",
       "      <td>295663.0</td>\n",
       "      <td>AAA Batteries (4-pack)</td>\n",
       "      <td>1.0</td>\n",
       "      <td>2.99</td>\n",
       "      <td>11/17/19 17:08</td>\n",
       "      <td>592 Sunset St, Boston, MA 02215</td>\n",
       "      <td>2.99</td>\n",
       "      <td>Boston</td>\n",
       "      <td>MA</td>\n",
       "      <td>592 Sunset St</td>\n",
       "      <td>11.0</td>\n",
       "      <td>17.0</td>\n",
       "      <td>17:08</td>\n",
       "      <td>19 17:08</td>\n",
       "      <td>19.0</td>\n",
       "      <td>17-11-2019</td>\n",
       "    </tr>\n",
       "    <tr>\n",
       "      <th>186850</th>\n",
       "      <td>295664.0</td>\n",
       "      <td>Google Phone</td>\n",
       "      <td>1.0</td>\n",
       "      <td>600.00</td>\n",
       "      <td>11/17/19 16:13</td>\n",
       "      <td>428 Jackson St, Boston, MA 02215</td>\n",
       "      <td>600.00</td>\n",
       "      <td>Boston</td>\n",
       "      <td>MA</td>\n",
       "      <td>428 Jackson St</td>\n",
       "      <td>11.0</td>\n",
       "      <td>17.0</td>\n",
       "      <td>16:13</td>\n",
       "      <td>19 16:13</td>\n",
       "      <td>19.0</td>\n",
       "      <td>17-11-2019</td>\n",
       "    </tr>\n",
       "  </tbody>\n",
       "</table>\n",
       "<p>186851 rows × 16 columns</p>\n",
       "</div>"
      ],
      "text/plain": [
       "        Order ID                   Product  Quantity Ordered  Price Each  \\\n",
       "0       259358.0    34in Ultrawide Monitor               1.0      379.99   \n",
       "1       259359.0    27in 4K Gaming Monitor               1.0      389.99   \n",
       "2       259360.0    AAA Batteries (4-pack)               2.0        2.99   \n",
       "3       259361.0          27in FHD Monitor               1.0      149.99   \n",
       "4       259362.0          Wired Headphones               1.0       11.99   \n",
       "...          ...                       ...               ...         ...   \n",
       "186846  295660.0    AAA Batteries (4-pack)               2.0        2.99   \n",
       "186847  295661.0      USB-C Charging Cable               1.0       11.95   \n",
       "186848  295662.0  Lightning Charging Cable               1.0       14.95   \n",
       "186849  295663.0    AAA Batteries (4-pack)               1.0        2.99   \n",
       "186850  295664.0              Google Phone               1.0      600.00   \n",
       "\n",
       "                    Date                           Purchase Address  \\\n",
       "0         10/28/19 10:56            609 Cherry St, Dallas, TX 75001   \n",
       "1         10/28/19 17:26          225 5th St, Los Angeles, CA 90001   \n",
       "2         10/24/19 17:20       967 12th St, New York City, NY 10001   \n",
       "3         10/14/19 22:26  628 Jefferson St, New York City, NY 10001   \n",
       "4       10-07-2019 16:10         534 14th St, Los Angeles, CA 90001   \n",
       "...                  ...                                        ...   \n",
       "186846  11-04-2019 14:17          574 4th St, Los Angeles, CA 90001   \n",
       "186847    11/23/19 07:22               359 1st St, Austin, TX 73301   \n",
       "186848    11/13/19 16:12              900 10th St, Boston, MA 02215   \n",
       "186849    11/17/19 17:08            592 Sunset St, Boston, MA 02215   \n",
       "186850    11/17/19 16:13           428 Jackson St, Boston, MA 02215   \n",
       "\n",
       "        Total Sales           City State Purchase Address2   Day  Month  \\\n",
       "0            379.99         Dallas    TX     609 Cherry St  10.0   28.0   \n",
       "1            389.99    Los Angeles    CA        225 5th St  10.0   28.0   \n",
       "2              5.98  New York City    NY       967 12th St  10.0   24.0   \n",
       "3            149.99  New York City    NY  628 Jefferson St  10.0   14.0   \n",
       "4             11.99    Los Angeles    CA       534 14th St  10.0    7.0   \n",
       "...             ...            ...   ...               ...   ...    ...   \n",
       "186846         5.98    Los Angeles    CA        574 4th St  11.0    4.0   \n",
       "186847        11.95         Austin    TX        359 1st St  11.0   23.0   \n",
       "186848        14.95         Boston    MA       900 10th St  11.0   13.0   \n",
       "186849         2.99         Boston    MA     592 Sunset St  11.0   17.0   \n",
       "186850       600.00         Boston    MA    428 Jackson St  11.0   17.0   \n",
       "\n",
       "         Time      Year  year2  Order Date  \n",
       "0       10:56  19 10:56   19.0  28-10-2019  \n",
       "1       17:26  19 17:26   19.0  28-10-2019  \n",
       "2       17:20  19 17:20   19.0  24-10-2019  \n",
       "3       22:26  19 22:26   19.0  14-10-2019  \n",
       "4       16:10  19 16:10   19.0  07-10-2019  \n",
       "...       ...       ...    ...         ...  \n",
       "186846  14:17  19 14:17   19.0  04-11-2019  \n",
       "186847  07:22  19 07:22   19.0  23-11-2019  \n",
       "186848  16:12  19 16:12   19.0  13-11-2019  \n",
       "186849  17:08  19 17:08   19.0  17-11-2019  \n",
       "186850  16:13  19 16:13   19.0  17-11-2019  \n",
       "\n",
       "[186851 rows x 16 columns]"
      ]
     },
     "execution_count": 3,
     "metadata": {},
     "output_type": "execute_result"
    }
   ],
   "source": [
    "# Data Contents\n",
    "df"
   ]
  },
  {
   "cell_type": "code",
   "execution_count": 4,
   "id": "9d6d1949",
   "metadata": {
    "execution": {
     "iopub.execute_input": "2024-04-09T13:57:39.530981Z",
     "iopub.status.busy": "2024-04-09T13:57:39.530600Z",
     "iopub.status.idle": "2024-04-09T13:57:39.554599Z",
     "shell.execute_reply": "2024-04-09T13:57:39.553425Z"
    },
    "papermill": {
     "duration": 0.044137,
     "end_time": "2024-04-09T13:57:39.556940",
     "exception": false,
     "start_time": "2024-04-09T13:57:39.512803",
     "status": "completed"
    },
    "tags": []
   },
   "outputs": [
    {
     "data": {
      "text/html": [
       "<div>\n",
       "<style scoped>\n",
       "    .dataframe tbody tr th:only-of-type {\n",
       "        vertical-align: middle;\n",
       "    }\n",
       "\n",
       "    .dataframe tbody tr th {\n",
       "        vertical-align: top;\n",
       "    }\n",
       "\n",
       "    .dataframe thead th {\n",
       "        text-align: right;\n",
       "    }\n",
       "</style>\n",
       "<table border=\"1\" class=\"dataframe\">\n",
       "  <thead>\n",
       "    <tr style=\"text-align: right;\">\n",
       "      <th></th>\n",
       "      <th>Order ID</th>\n",
       "      <th>Product</th>\n",
       "      <th>Quantity Ordered</th>\n",
       "      <th>Price Each</th>\n",
       "      <th>Date</th>\n",
       "      <th>Purchase Address</th>\n",
       "      <th>Total Sales</th>\n",
       "      <th>City</th>\n",
       "      <th>State</th>\n",
       "      <th>Purchase Address2</th>\n",
       "      <th>Day</th>\n",
       "      <th>Month</th>\n",
       "      <th>Time</th>\n",
       "      <th>Year</th>\n",
       "      <th>year2</th>\n",
       "      <th>Order Date</th>\n",
       "    </tr>\n",
       "  </thead>\n",
       "  <tbody>\n",
       "    <tr>\n",
       "      <th>0</th>\n",
       "      <td>259358.0</td>\n",
       "      <td>34in Ultrawide Monitor</td>\n",
       "      <td>1.0</td>\n",
       "      <td>379.99</td>\n",
       "      <td>10/28/19 10:56</td>\n",
       "      <td>609 Cherry St, Dallas, TX 75001</td>\n",
       "      <td>379.99</td>\n",
       "      <td>Dallas</td>\n",
       "      <td>TX</td>\n",
       "      <td>609 Cherry St</td>\n",
       "      <td>10.0</td>\n",
       "      <td>28.0</td>\n",
       "      <td>10:56</td>\n",
       "      <td>19 10:56</td>\n",
       "      <td>19.0</td>\n",
       "      <td>28-10-2019</td>\n",
       "    </tr>\n",
       "    <tr>\n",
       "      <th>1</th>\n",
       "      <td>259359.0</td>\n",
       "      <td>27in 4K Gaming Monitor</td>\n",
       "      <td>1.0</td>\n",
       "      <td>389.99</td>\n",
       "      <td>10/28/19 17:26</td>\n",
       "      <td>225 5th St, Los Angeles, CA 90001</td>\n",
       "      <td>389.99</td>\n",
       "      <td>Los Angeles</td>\n",
       "      <td>CA</td>\n",
       "      <td>225 5th St</td>\n",
       "      <td>10.0</td>\n",
       "      <td>28.0</td>\n",
       "      <td>17:26</td>\n",
       "      <td>19 17:26</td>\n",
       "      <td>19.0</td>\n",
       "      <td>28-10-2019</td>\n",
       "    </tr>\n",
       "    <tr>\n",
       "      <th>2</th>\n",
       "      <td>259360.0</td>\n",
       "      <td>AAA Batteries (4-pack)</td>\n",
       "      <td>2.0</td>\n",
       "      <td>2.99</td>\n",
       "      <td>10/24/19 17:20</td>\n",
       "      <td>967 12th St, New York City, NY 10001</td>\n",
       "      <td>5.98</td>\n",
       "      <td>New York City</td>\n",
       "      <td>NY</td>\n",
       "      <td>967 12th St</td>\n",
       "      <td>10.0</td>\n",
       "      <td>24.0</td>\n",
       "      <td>17:20</td>\n",
       "      <td>19 17:20</td>\n",
       "      <td>19.0</td>\n",
       "      <td>24-10-2019</td>\n",
       "    </tr>\n",
       "    <tr>\n",
       "      <th>3</th>\n",
       "      <td>259361.0</td>\n",
       "      <td>27in FHD Monitor</td>\n",
       "      <td>1.0</td>\n",
       "      <td>149.99</td>\n",
       "      <td>10/14/19 22:26</td>\n",
       "      <td>628 Jefferson St, New York City, NY 10001</td>\n",
       "      <td>149.99</td>\n",
       "      <td>New York City</td>\n",
       "      <td>NY</td>\n",
       "      <td>628 Jefferson St</td>\n",
       "      <td>10.0</td>\n",
       "      <td>14.0</td>\n",
       "      <td>22:26</td>\n",
       "      <td>19 22:26</td>\n",
       "      <td>19.0</td>\n",
       "      <td>14-10-2019</td>\n",
       "    </tr>\n",
       "    <tr>\n",
       "      <th>4</th>\n",
       "      <td>259362.0</td>\n",
       "      <td>Wired Headphones</td>\n",
       "      <td>1.0</td>\n",
       "      <td>11.99</td>\n",
       "      <td>10-07-2019 16:10</td>\n",
       "      <td>534 14th St, Los Angeles, CA 90001</td>\n",
       "      <td>11.99</td>\n",
       "      <td>Los Angeles</td>\n",
       "      <td>CA</td>\n",
       "      <td>534 14th St</td>\n",
       "      <td>10.0</td>\n",
       "      <td>7.0</td>\n",
       "      <td>16:10</td>\n",
       "      <td>19 16:10</td>\n",
       "      <td>19.0</td>\n",
       "      <td>07-10-2019</td>\n",
       "    </tr>\n",
       "  </tbody>\n",
       "</table>\n",
       "</div>"
      ],
      "text/plain": [
       "   Order ID                 Product  Quantity Ordered  Price Each  \\\n",
       "0  259358.0  34in Ultrawide Monitor               1.0      379.99   \n",
       "1  259359.0  27in 4K Gaming Monitor               1.0      389.99   \n",
       "2  259360.0  AAA Batteries (4-pack)               2.0        2.99   \n",
       "3  259361.0        27in FHD Monitor               1.0      149.99   \n",
       "4  259362.0        Wired Headphones               1.0       11.99   \n",
       "\n",
       "               Date                           Purchase Address  Total Sales  \\\n",
       "0    10/28/19 10:56            609 Cherry St, Dallas, TX 75001       379.99   \n",
       "1    10/28/19 17:26          225 5th St, Los Angeles, CA 90001       389.99   \n",
       "2    10/24/19 17:20       967 12th St, New York City, NY 10001         5.98   \n",
       "3    10/14/19 22:26  628 Jefferson St, New York City, NY 10001       149.99   \n",
       "4  10-07-2019 16:10         534 14th St, Los Angeles, CA 90001        11.99   \n",
       "\n",
       "            City State Purchase Address2   Day  Month   Time      Year  year2  \\\n",
       "0         Dallas    TX     609 Cherry St  10.0   28.0  10:56  19 10:56   19.0   \n",
       "1    Los Angeles    CA        225 5th St  10.0   28.0  17:26  19 17:26   19.0   \n",
       "2  New York City    NY       967 12th St  10.0   24.0  17:20  19 17:20   19.0   \n",
       "3  New York City    NY  628 Jefferson St  10.0   14.0  22:26  19 22:26   19.0   \n",
       "4    Los Angeles    CA       534 14th St  10.0    7.0  16:10  19 16:10   19.0   \n",
       "\n",
       "   Order Date  \n",
       "0  28-10-2019  \n",
       "1  28-10-2019  \n",
       "2  24-10-2019  \n",
       "3  14-10-2019  \n",
       "4  07-10-2019  "
      ]
     },
     "execution_count": 4,
     "metadata": {},
     "output_type": "execute_result"
    }
   ],
   "source": [
    "# Top headings\n",
    "df.head()"
   ]
  },
  {
   "cell_type": "code",
   "execution_count": 5,
   "id": "ee71f833",
   "metadata": {
    "execution": {
     "iopub.execute_input": "2024-04-09T13:57:39.592604Z",
     "iopub.status.busy": "2024-04-09T13:57:39.592205Z",
     "iopub.status.idle": "2024-04-09T13:57:39.617566Z",
     "shell.execute_reply": "2024-04-09T13:57:39.616218Z"
    },
    "papermill": {
     "duration": 0.046285,
     "end_time": "2024-04-09T13:57:39.620510",
     "exception": false,
     "start_time": "2024-04-09T13:57:39.574225",
     "status": "completed"
    },
    "tags": []
   },
   "outputs": [
    {
     "data": {
      "text/html": [
       "<div>\n",
       "<style scoped>\n",
       "    .dataframe tbody tr th:only-of-type {\n",
       "        vertical-align: middle;\n",
       "    }\n",
       "\n",
       "    .dataframe tbody tr th {\n",
       "        vertical-align: top;\n",
       "    }\n",
       "\n",
       "    .dataframe thead th {\n",
       "        text-align: right;\n",
       "    }\n",
       "</style>\n",
       "<table border=\"1\" class=\"dataframe\">\n",
       "  <thead>\n",
       "    <tr style=\"text-align: right;\">\n",
       "      <th></th>\n",
       "      <th>Order ID</th>\n",
       "      <th>Product</th>\n",
       "      <th>Quantity Ordered</th>\n",
       "      <th>Price Each</th>\n",
       "      <th>Date</th>\n",
       "      <th>Purchase Address</th>\n",
       "      <th>Total Sales</th>\n",
       "      <th>City</th>\n",
       "      <th>State</th>\n",
       "      <th>Purchase Address2</th>\n",
       "      <th>Day</th>\n",
       "      <th>Month</th>\n",
       "      <th>Time</th>\n",
       "      <th>Year</th>\n",
       "      <th>year2</th>\n",
       "      <th>Order Date</th>\n",
       "    </tr>\n",
       "  </thead>\n",
       "  <tbody>\n",
       "    <tr>\n",
       "      <th>186846</th>\n",
       "      <td>295660.0</td>\n",
       "      <td>AAA Batteries (4-pack)</td>\n",
       "      <td>2.0</td>\n",
       "      <td>2.99</td>\n",
       "      <td>11-04-2019 14:17</td>\n",
       "      <td>574 4th St, Los Angeles, CA 90001</td>\n",
       "      <td>5.98</td>\n",
       "      <td>Los Angeles</td>\n",
       "      <td>CA</td>\n",
       "      <td>574 4th St</td>\n",
       "      <td>11.0</td>\n",
       "      <td>4.0</td>\n",
       "      <td>14:17</td>\n",
       "      <td>19 14:17</td>\n",
       "      <td>19.0</td>\n",
       "      <td>04-11-2019</td>\n",
       "    </tr>\n",
       "    <tr>\n",
       "      <th>186847</th>\n",
       "      <td>295661.0</td>\n",
       "      <td>USB-C Charging Cable</td>\n",
       "      <td>1.0</td>\n",
       "      <td>11.95</td>\n",
       "      <td>11/23/19 07:22</td>\n",
       "      <td>359 1st St, Austin, TX 73301</td>\n",
       "      <td>11.95</td>\n",
       "      <td>Austin</td>\n",
       "      <td>TX</td>\n",
       "      <td>359 1st St</td>\n",
       "      <td>11.0</td>\n",
       "      <td>23.0</td>\n",
       "      <td>07:22</td>\n",
       "      <td>19 07:22</td>\n",
       "      <td>19.0</td>\n",
       "      <td>23-11-2019</td>\n",
       "    </tr>\n",
       "    <tr>\n",
       "      <th>186848</th>\n",
       "      <td>295662.0</td>\n",
       "      <td>Lightning Charging Cable</td>\n",
       "      <td>1.0</td>\n",
       "      <td>14.95</td>\n",
       "      <td>11/13/19 16:12</td>\n",
       "      <td>900 10th St, Boston, MA 02215</td>\n",
       "      <td>14.95</td>\n",
       "      <td>Boston</td>\n",
       "      <td>MA</td>\n",
       "      <td>900 10th St</td>\n",
       "      <td>11.0</td>\n",
       "      <td>13.0</td>\n",
       "      <td>16:12</td>\n",
       "      <td>19 16:12</td>\n",
       "      <td>19.0</td>\n",
       "      <td>13-11-2019</td>\n",
       "    </tr>\n",
       "    <tr>\n",
       "      <th>186849</th>\n",
       "      <td>295663.0</td>\n",
       "      <td>AAA Batteries (4-pack)</td>\n",
       "      <td>1.0</td>\n",
       "      <td>2.99</td>\n",
       "      <td>11/17/19 17:08</td>\n",
       "      <td>592 Sunset St, Boston, MA 02215</td>\n",
       "      <td>2.99</td>\n",
       "      <td>Boston</td>\n",
       "      <td>MA</td>\n",
       "      <td>592 Sunset St</td>\n",
       "      <td>11.0</td>\n",
       "      <td>17.0</td>\n",
       "      <td>17:08</td>\n",
       "      <td>19 17:08</td>\n",
       "      <td>19.0</td>\n",
       "      <td>17-11-2019</td>\n",
       "    </tr>\n",
       "    <tr>\n",
       "      <th>186850</th>\n",
       "      <td>295664.0</td>\n",
       "      <td>Google Phone</td>\n",
       "      <td>1.0</td>\n",
       "      <td>600.00</td>\n",
       "      <td>11/17/19 16:13</td>\n",
       "      <td>428 Jackson St, Boston, MA 02215</td>\n",
       "      <td>600.00</td>\n",
       "      <td>Boston</td>\n",
       "      <td>MA</td>\n",
       "      <td>428 Jackson St</td>\n",
       "      <td>11.0</td>\n",
       "      <td>17.0</td>\n",
       "      <td>16:13</td>\n",
       "      <td>19 16:13</td>\n",
       "      <td>19.0</td>\n",
       "      <td>17-11-2019</td>\n",
       "    </tr>\n",
       "  </tbody>\n",
       "</table>\n",
       "</div>"
      ],
      "text/plain": [
       "        Order ID                   Product  Quantity Ordered  Price Each  \\\n",
       "186846  295660.0    AAA Batteries (4-pack)               2.0        2.99   \n",
       "186847  295661.0      USB-C Charging Cable               1.0       11.95   \n",
       "186848  295662.0  Lightning Charging Cable               1.0       14.95   \n",
       "186849  295663.0    AAA Batteries (4-pack)               1.0        2.99   \n",
       "186850  295664.0              Google Phone               1.0      600.00   \n",
       "\n",
       "                    Date                   Purchase Address  Total Sales  \\\n",
       "186846  11-04-2019 14:17  574 4th St, Los Angeles, CA 90001         5.98   \n",
       "186847    11/23/19 07:22       359 1st St, Austin, TX 73301        11.95   \n",
       "186848    11/13/19 16:12      900 10th St, Boston, MA 02215        14.95   \n",
       "186849    11/17/19 17:08    592 Sunset St, Boston, MA 02215         2.99   \n",
       "186850    11/17/19 16:13   428 Jackson St, Boston, MA 02215       600.00   \n",
       "\n",
       "               City State Purchase Address2   Day  Month   Time      Year  \\\n",
       "186846  Los Angeles    CA        574 4th St  11.0    4.0  14:17  19 14:17   \n",
       "186847       Austin    TX        359 1st St  11.0   23.0  07:22  19 07:22   \n",
       "186848       Boston    MA       900 10th St  11.0   13.0  16:12  19 16:12   \n",
       "186849       Boston    MA     592 Sunset St  11.0   17.0  17:08  19 17:08   \n",
       "186850       Boston    MA    428 Jackson St  11.0   17.0  16:13  19 16:13   \n",
       "\n",
       "        year2  Order Date  \n",
       "186846   19.0  04-11-2019  \n",
       "186847   19.0  23-11-2019  \n",
       "186848   19.0  13-11-2019  \n",
       "186849   19.0  17-11-2019  \n",
       "186850   19.0  17-11-2019  "
      ]
     },
     "execution_count": 5,
     "metadata": {},
     "output_type": "execute_result"
    }
   ],
   "source": [
    "# End Tailing Data\n",
    "df.tail()"
   ]
  },
  {
   "cell_type": "code",
   "execution_count": 6,
   "id": "8a9465bd",
   "metadata": {
    "execution": {
     "iopub.execute_input": "2024-04-09T13:57:39.656058Z",
     "iopub.status.busy": "2024-04-09T13:57:39.655698Z",
     "iopub.status.idle": "2024-04-09T13:57:39.662646Z",
     "shell.execute_reply": "2024-04-09T13:57:39.661407Z"
    },
    "papermill": {
     "duration": 0.027629,
     "end_time": "2024-04-09T13:57:39.664905",
     "exception": false,
     "start_time": "2024-04-09T13:57:39.637276",
     "status": "completed"
    },
    "tags": []
   },
   "outputs": [
    {
     "data": {
      "text/plain": [
       "(186851, 16)"
      ]
     },
     "execution_count": 6,
     "metadata": {},
     "output_type": "execute_result"
    }
   ],
   "source": [
    "# Size of Data\n",
    "df.shape"
   ]
  },
  {
   "cell_type": "code",
   "execution_count": 7,
   "id": "2a717544",
   "metadata": {
    "execution": {
     "iopub.execute_input": "2024-04-09T13:57:39.700960Z",
     "iopub.status.busy": "2024-04-09T13:57:39.700541Z",
     "iopub.status.idle": "2024-04-09T13:57:39.903983Z",
     "shell.execute_reply": "2024-04-09T13:57:39.902391Z"
    },
    "papermill": {
     "duration": 0.22469,
     "end_time": "2024-04-09T13:57:39.906856",
     "exception": false,
     "start_time": "2024-04-09T13:57:39.682166",
     "status": "completed"
    },
    "tags": []
   },
   "outputs": [
    {
     "name": "stdout",
     "output_type": "stream",
     "text": [
      "<class 'pandas.core.frame.DataFrame'>\n",
      "RangeIndex: 186851 entries, 0 to 186850\n",
      "Data columns (total 16 columns):\n",
      " #   Column             Non-Null Count   Dtype  \n",
      "---  ------             --------------   -----  \n",
      " 0   Order ID           172394 non-null  float64\n",
      " 1   Product            172394 non-null  object \n",
      " 2   Quantity Ordered   172394 non-null  float64\n",
      " 3   Price Each         172394 non-null  float64\n",
      " 4   Date               172394 non-null  object \n",
      " 5   Purchase Address   172394 non-null  object \n",
      " 6   Total Sales        172394 non-null  float64\n",
      " 7   City               172394 non-null  object \n",
      " 8   State              172394 non-null  object \n",
      " 9   Purchase Address2  172394 non-null  object \n",
      " 10  Day                172394 non-null  float64\n",
      " 11  Month              172394 non-null  float64\n",
      " 12  Time               172394 non-null  object \n",
      " 13  Year               172394 non-null  object \n",
      " 14  year2              172394 non-null  float64\n",
      " 15  Order Date         172394 non-null  object \n",
      "dtypes: float64(7), object(9)\n",
      "memory usage: 22.8+ MB\n"
     ]
    }
   ],
   "source": [
    "# lets see Datatypes\n",
    "df.info()"
   ]
  },
  {
   "cell_type": "markdown",
   "id": "27e9c4d2",
   "metadata": {
    "papermill": {
     "duration": 0.017311,
     "end_time": "2024-04-09T13:57:39.942913",
     "exception": false,
     "start_time": "2024-04-09T13:57:39.925602",
     "status": "completed"
    },
    "tags": []
   },
   "source": [
    "**Till Now, We find Data contiains our Data contains unnecessary columns and Data types are Also improper \n",
    "Lets Cleaned up this....**"
   ]
  },
  {
   "cell_type": "code",
   "execution_count": 8,
   "id": "d9944318",
   "metadata": {
    "execution": {
     "iopub.execute_input": "2024-04-09T13:57:39.979956Z",
     "iopub.status.busy": "2024-04-09T13:57:39.978879Z",
     "iopub.status.idle": "2024-04-09T13:57:40.037193Z",
     "shell.execute_reply": "2024-04-09T13:57:40.035699Z"
    },
    "papermill": {
     "duration": 0.08,
     "end_time": "2024-04-09T13:57:40.040327",
     "exception": false,
     "start_time": "2024-04-09T13:57:39.960327",
     "status": "completed"
    },
    "tags": []
   },
   "outputs": [
    {
     "data": {
      "text/html": [
       "<div>\n",
       "<style scoped>\n",
       "    .dataframe tbody tr th:only-of-type {\n",
       "        vertical-align: middle;\n",
       "    }\n",
       "\n",
       "    .dataframe tbody tr th {\n",
       "        vertical-align: top;\n",
       "    }\n",
       "\n",
       "    .dataframe thead th {\n",
       "        text-align: right;\n",
       "    }\n",
       "</style>\n",
       "<table border=\"1\" class=\"dataframe\">\n",
       "  <thead>\n",
       "    <tr style=\"text-align: right;\">\n",
       "      <th></th>\n",
       "      <th>Quantity Ordered</th>\n",
       "      <th>Price Each</th>\n",
       "      <th>Total Sales</th>\n",
       "    </tr>\n",
       "  </thead>\n",
       "  <tbody>\n",
       "    <tr>\n",
       "      <th>count</th>\n",
       "      <td>172394.000000</td>\n",
       "      <td>172394.000000</td>\n",
       "      <td>172394.000000</td>\n",
       "    </tr>\n",
       "    <tr>\n",
       "      <th>mean</th>\n",
       "      <td>1.124308</td>\n",
       "      <td>184.035605</td>\n",
       "      <td>185.120959</td>\n",
       "    </tr>\n",
       "    <tr>\n",
       "      <th>std</th>\n",
       "      <td>0.443825</td>\n",
       "      <td>332.402454</td>\n",
       "      <td>332.559702</td>\n",
       "    </tr>\n",
       "    <tr>\n",
       "      <th>min</th>\n",
       "      <td>1.000000</td>\n",
       "      <td>2.990000</td>\n",
       "      <td>2.990000</td>\n",
       "    </tr>\n",
       "    <tr>\n",
       "      <th>25%</th>\n",
       "      <td>1.000000</td>\n",
       "      <td>11.950000</td>\n",
       "      <td>11.950000</td>\n",
       "    </tr>\n",
       "    <tr>\n",
       "      <th>50%</th>\n",
       "      <td>1.000000</td>\n",
       "      <td>14.950000</td>\n",
       "      <td>14.950000</td>\n",
       "    </tr>\n",
       "    <tr>\n",
       "      <th>75%</th>\n",
       "      <td>1.000000</td>\n",
       "      <td>150.000000</td>\n",
       "      <td>150.000000</td>\n",
       "    </tr>\n",
       "    <tr>\n",
       "      <th>max</th>\n",
       "      <td>9.000000</td>\n",
       "      <td>1700.000000</td>\n",
       "      <td>3400.000000</td>\n",
       "    </tr>\n",
       "  </tbody>\n",
       "</table>\n",
       "</div>"
      ],
      "text/plain": [
       "       Quantity Ordered     Price Each    Total Sales\n",
       "count     172394.000000  172394.000000  172394.000000\n",
       "mean           1.124308     184.035605     185.120959\n",
       "std            0.443825     332.402454     332.559702\n",
       "min            1.000000       2.990000       2.990000\n",
       "25%            1.000000      11.950000      11.950000\n",
       "50%            1.000000      14.950000      14.950000\n",
       "75%            1.000000     150.000000     150.000000\n",
       "max            9.000000    1700.000000    3400.000000"
      ]
     },
     "execution_count": 8,
     "metadata": {},
     "output_type": "execute_result"
    }
   ],
   "source": [
    "# Lets see Statistics of Data\n",
    "df[['Quantity Ordered','Price Each','Total Sales']].describe()"
   ]
  },
  {
   "cell_type": "markdown",
   "id": "721f00fa",
   "metadata": {
    "papermill": {
     "duration": 0.017534,
     "end_time": "2024-04-09T13:57:40.076241",
     "exception": false,
     "start_time": "2024-04-09T13:57:40.058707",
     "status": "completed"
    },
    "tags": []
   },
   "source": [
    "# **Data Cleaning**"
   ]
  },
  {
   "cell_type": "code",
   "execution_count": 9,
   "id": "c564ccba",
   "metadata": {
    "execution": {
     "iopub.execute_input": "2024-04-09T13:57:40.120834Z",
     "iopub.status.busy": "2024-04-09T13:57:40.119772Z",
     "iopub.status.idle": "2024-04-09T13:57:40.341220Z",
     "shell.execute_reply": "2024-04-09T13:57:40.339987Z"
    },
    "papermill": {
     "duration": 0.250166,
     "end_time": "2024-04-09T13:57:40.345130",
     "exception": false,
     "start_time": "2024-04-09T13:57:40.094964",
     "status": "completed"
    },
    "tags": []
   },
   "outputs": [
    {
     "data": {
      "text/plain": [
       "Order ID             14457\n",
       "Product              14457\n",
       "Quantity Ordered     14457\n",
       "Price Each           14457\n",
       "Date                 14457\n",
       "Purchase Address     14457\n",
       "Total Sales          14457\n",
       "City                 14457\n",
       "State                14457\n",
       "Purchase Address2    14457\n",
       "Day                  14457\n",
       "Month                14457\n",
       "Time                 14457\n",
       "Year                 14457\n",
       "year2                14457\n",
       "Order Date           14457\n",
       "dtype: int64"
      ]
     },
     "execution_count": 9,
     "metadata": {},
     "output_type": "execute_result"
    }
   ],
   "source": [
    "# first we find null values \n",
    "df.isnull().sum()"
   ]
  },
  {
   "cell_type": "code",
   "execution_count": 10,
   "id": "fb2fff4a",
   "metadata": {
    "execution": {
     "iopub.execute_input": "2024-04-09T13:57:40.390296Z",
     "iopub.status.busy": "2024-04-09T13:57:40.389776Z",
     "iopub.status.idle": "2024-04-09T13:57:40.624238Z",
     "shell.execute_reply": "2024-04-09T13:57:40.622330Z"
    },
    "papermill": {
     "duration": 0.262465,
     "end_time": "2024-04-09T13:57:40.628675",
     "exception": false,
     "start_time": "2024-04-09T13:57:40.366210",
     "status": "completed"
    },
    "tags": []
   },
   "outputs": [],
   "source": [
    "# Lets drop them\n",
    "df.dropna(inplace=True)"
   ]
  },
  {
   "cell_type": "code",
   "execution_count": 11,
   "id": "8363394d",
   "metadata": {
    "execution": {
     "iopub.execute_input": "2024-04-09T13:57:40.668277Z",
     "iopub.status.busy": "2024-04-09T13:57:40.667857Z",
     "iopub.status.idle": "2024-04-09T13:57:40.845730Z",
     "shell.execute_reply": "2024-04-09T13:57:40.844510Z"
    },
    "papermill": {
     "duration": 0.201042,
     "end_time": "2024-04-09T13:57:40.848261",
     "exception": false,
     "start_time": "2024-04-09T13:57:40.647219",
     "status": "completed"
    },
    "tags": []
   },
   "outputs": [
    {
     "data": {
      "text/plain": [
       "Order ID             0\n",
       "Product              0\n",
       "Quantity Ordered     0\n",
       "Price Each           0\n",
       "Date                 0\n",
       "Purchase Address     0\n",
       "Total Sales          0\n",
       "City                 0\n",
       "State                0\n",
       "Purchase Address2    0\n",
       "Day                  0\n",
       "Month                0\n",
       "Time                 0\n",
       "Year                 0\n",
       "year2                0\n",
       "Order Date           0\n",
       "dtype: int64"
      ]
     },
     "execution_count": 11,
     "metadata": {},
     "output_type": "execute_result"
    }
   ],
   "source": [
    "# Lets Check again\n",
    "df.isnull().sum()"
   ]
  },
  {
   "cell_type": "code",
   "execution_count": 12,
   "id": "71c27f4b",
   "metadata": {
    "execution": {
     "iopub.execute_input": "2024-04-09T13:57:40.887571Z",
     "iopub.status.busy": "2024-04-09T13:57:40.887054Z",
     "iopub.status.idle": "2024-04-09T13:57:40.917681Z",
     "shell.execute_reply": "2024-04-09T13:57:40.916456Z"
    },
    "papermill": {
     "duration": 0.05371,
     "end_time": "2024-04-09T13:57:40.920603",
     "exception": false,
     "start_time": "2024-04-09T13:57:40.866893",
     "status": "completed"
    },
    "tags": []
   },
   "outputs": [],
   "source": [
    "# Now Dropping unnecessary Columns\n",
    "df.drop(['Date','Day','Month','Year','year2','Time','Purchase Address'],axis=1,inplace=True)"
   ]
  },
  {
   "cell_type": "code",
   "execution_count": 13,
   "id": "60cd0d9c",
   "metadata": {
    "execution": {
     "iopub.execute_input": "2024-04-09T13:57:40.958061Z",
     "iopub.status.busy": "2024-04-09T13:57:40.957670Z",
     "iopub.status.idle": "2024-04-09T13:57:41.061442Z",
     "shell.execute_reply": "2024-04-09T13:57:41.060367Z"
    },
    "papermill": {
     "duration": 0.125445,
     "end_time": "2024-04-09T13:57:41.064130",
     "exception": false,
     "start_time": "2024-04-09T13:57:40.938685",
     "status": "completed"
    },
    "tags": []
   },
   "outputs": [
    {
     "name": "stdout",
     "output_type": "stream",
     "text": [
      "<class 'pandas.core.frame.DataFrame'>\n",
      "Index: 172394 entries, 0 to 186850\n",
      "Data columns (total 9 columns):\n",
      " #   Column             Non-Null Count   Dtype  \n",
      "---  ------             --------------   -----  \n",
      " 0   Order ID           172394 non-null  float64\n",
      " 1   Product            172394 non-null  object \n",
      " 2   Quantity Ordered   172394 non-null  float64\n",
      " 3   Price Each         172394 non-null  float64\n",
      " 4   Total Sales        172394 non-null  float64\n",
      " 5   City               172394 non-null  object \n",
      " 6   State              172394 non-null  object \n",
      " 7   Purchase Address2  172394 non-null  object \n",
      " 8   Order Date         172394 non-null  object \n",
      "dtypes: float64(4), object(5)\n",
      "memory usage: 13.2+ MB\n"
     ]
    }
   ],
   "source": [
    "# lest Check Data\n",
    "df.info()"
   ]
  },
  {
   "cell_type": "code",
   "execution_count": 14,
   "id": "5a7687f4",
   "metadata": {
    "execution": {
     "iopub.execute_input": "2024-04-09T13:57:41.106483Z",
     "iopub.status.busy": "2024-04-09T13:57:41.106077Z",
     "iopub.status.idle": "2024-04-09T13:57:41.158168Z",
     "shell.execute_reply": "2024-04-09T13:57:41.156834Z"
    },
    "papermill": {
     "duration": 0.07855,
     "end_time": "2024-04-09T13:57:41.161148",
     "exception": false,
     "start_time": "2024-04-09T13:57:41.082598",
     "status": "completed"
    },
    "tags": []
   },
   "outputs": [],
   "source": [
    "# Changing DataTypes of columns \n",
    "# Order ID\n",
    "df['Order ID']=df['Order ID'].astype(int)\n",
    "# Quantity Order\n",
    "df['Quantity Ordered']=df['Quantity Ordered'].astype(int)\n",
    "# Order Date\n",
    "df['Order Date'] = pd.to_datetime(df['Order Date'], infer_datetime_format=True)"
   ]
  },
  {
   "cell_type": "code",
   "execution_count": 15,
   "id": "00d3b438",
   "metadata": {
    "execution": {
     "iopub.execute_input": "2024-04-09T13:57:41.200570Z",
     "iopub.status.busy": "2024-04-09T13:57:41.199332Z",
     "iopub.status.idle": "2024-04-09T13:57:41.291164Z",
     "shell.execute_reply": "2024-04-09T13:57:41.289638Z"
    },
    "papermill": {
     "duration": 0.113854,
     "end_time": "2024-04-09T13:57:41.293741",
     "exception": false,
     "start_time": "2024-04-09T13:57:41.179887",
     "status": "completed"
    },
    "tags": []
   },
   "outputs": [
    {
     "name": "stdout",
     "output_type": "stream",
     "text": [
      "<class 'pandas.core.frame.DataFrame'>\n",
      "Index: 172394 entries, 0 to 186850\n",
      "Data columns (total 9 columns):\n",
      " #   Column             Non-Null Count   Dtype         \n",
      "---  ------             --------------   -----         \n",
      " 0   Order ID           172394 non-null  int64         \n",
      " 1   Product            172394 non-null  object        \n",
      " 2   Quantity Ordered   172394 non-null  int64         \n",
      " 3   Price Each         172394 non-null  float64       \n",
      " 4   Total Sales        172394 non-null  float64       \n",
      " 5   City               172394 non-null  object        \n",
      " 6   State              172394 non-null  object        \n",
      " 7   Purchase Address2  172394 non-null  object        \n",
      " 8   Order Date         172394 non-null  datetime64[ns]\n",
      "dtypes: datetime64[ns](1), float64(2), int64(2), object(4)\n",
      "memory usage: 13.2+ MB\n"
     ]
    }
   ],
   "source": [
    "# Final Check Data Types\n",
    "df.info()"
   ]
  },
  {
   "cell_type": "code",
   "execution_count": 16,
   "id": "e1afee3f",
   "metadata": {
    "execution": {
     "iopub.execute_input": "2024-04-09T13:57:41.393550Z",
     "iopub.status.busy": "2024-04-09T13:57:41.393095Z",
     "iopub.status.idle": "2024-04-09T13:57:41.419123Z",
     "shell.execute_reply": "2024-04-09T13:57:41.417600Z"
    },
    "papermill": {
     "duration": 0.110093,
     "end_time": "2024-04-09T13:57:41.422518",
     "exception": false,
     "start_time": "2024-04-09T13:57:41.312425",
     "status": "completed"
    },
    "tags": []
   },
   "outputs": [
    {
     "data": {
      "text/plain": [
       "array(['34in Ultrawide Monitor', '27in 4K Gaming Monitor',\n",
       "       'AAA Batteries (4-pack)', '27in FHD Monitor', 'Wired Headphones',\n",
       "       'Lightning Charging Cable', 'Apple Airpods Headphones',\n",
       "       'USB-C Charging Cable', '20in Monitor', 'iPhone',\n",
       "       'Bose SoundSport Headphones', 'ThinkPad Laptop',\n",
       "       'AA Batteries (4-pack)', 'Google Phone', 'Vareebadd Phone',\n",
       "       'Flatscreen TV', 'Macbook Pro Laptop', 'LG Dryer',\n",
       "       'LG Washing Machine'], dtype=object)"
      ]
     },
     "execution_count": 16,
     "metadata": {},
     "output_type": "execute_result"
    }
   ],
   "source": [
    "# Lets see Products name\n",
    "df['Product'].unique()"
   ]
  },
  {
   "cell_type": "code",
   "execution_count": 17,
   "id": "e2443910",
   "metadata": {
    "execution": {
     "iopub.execute_input": "2024-04-09T13:57:41.461319Z",
     "iopub.status.busy": "2024-04-09T13:57:41.460902Z",
     "iopub.status.idle": "2024-04-09T13:57:41.485140Z",
     "shell.execute_reply": "2024-04-09T13:57:41.483959Z"
    },
    "papermill": {
     "duration": 0.046495,
     "end_time": "2024-04-09T13:57:41.487803",
     "exception": false,
     "start_time": "2024-04-09T13:57:41.441308",
     "status": "completed"
    },
    "tags": []
   },
   "outputs": [
    {
     "data": {
      "text/plain": [
       "array(['Dallas', 'Los Angeles', 'New York City', 'San Francisco',\n",
       "       'Boston', 'Portland', 'Atlanta', 'Austin', 'Seattle'], dtype=object)"
      ]
     },
     "execution_count": 17,
     "metadata": {},
     "output_type": "execute_result"
    }
   ],
   "source": [
    "# Lets see city\n",
    "df['City'].unique()"
   ]
  },
  {
   "cell_type": "code",
   "execution_count": 18,
   "id": "dc6202ee",
   "metadata": {
    "execution": {
     "iopub.execute_input": "2024-04-09T13:57:41.527416Z",
     "iopub.status.busy": "2024-04-09T13:57:41.526990Z",
     "iopub.status.idle": "2024-04-09T13:57:41.547916Z",
     "shell.execute_reply": "2024-04-09T13:57:41.546907Z"
    },
    "papermill": {
     "duration": 0.043871,
     "end_time": "2024-04-09T13:57:41.550616",
     "exception": false,
     "start_time": "2024-04-09T13:57:41.506745",
     "status": "completed"
    },
    "tags": []
   },
   "outputs": [
    {
     "data": {
      "text/plain": [
       "array(['TX', 'CA', 'NY', 'MA', 'OR', 'GA', 'WA', 'ME'], dtype=object)"
      ]
     },
     "execution_count": 18,
     "metadata": {},
     "output_type": "execute_result"
    }
   ],
   "source": [
    "# Lest see states\n",
    "df['State'].unique()"
   ]
  },
  {
   "cell_type": "markdown",
   "id": "221dccb8",
   "metadata": {
    "papermill": {
     "duration": 0.019319,
     "end_time": "2024-04-09T13:57:41.589787",
     "exception": false,
     "start_time": "2024-04-09T13:57:41.570468",
     "status": "completed"
    },
    "tags": []
   },
   "source": [
    "**Now our Cleaning Work is Done**"
   ]
  },
  {
   "cell_type": "markdown",
   "id": "57b64d29",
   "metadata": {
    "papermill": {
     "duration": 0.019543,
     "end_time": "2024-04-09T13:57:41.629308",
     "exception": false,
     "start_time": "2024-04-09T13:57:41.609765",
     "status": "completed"
    },
    "tags": []
   },
   "source": [
    "# **EDA** "
   ]
  },
  {
   "cell_type": "markdown",
   "id": "3d90f054",
   "metadata": {
    "papermill": {
     "duration": 0.018394,
     "end_time": "2024-04-09T13:57:41.666339",
     "exception": false,
     "start_time": "2024-04-09T13:57:41.647945",
     "status": "completed"
    },
    "tags": []
   },
   "source": [
    "# **Products Ordered**"
   ]
  },
  {
   "cell_type": "code",
   "execution_count": 19,
   "id": "f24bcaae",
   "metadata": {
    "execution": {
     "iopub.execute_input": "2024-04-09T13:57:41.705254Z",
     "iopub.status.busy": "2024-04-09T13:57:41.704814Z",
     "iopub.status.idle": "2024-04-09T13:57:41.746333Z",
     "shell.execute_reply": "2024-04-09T13:57:41.745140Z"
    },
    "papermill": {
     "duration": 0.063907,
     "end_time": "2024-04-09T13:57:41.748838",
     "exception": false,
     "start_time": "2024-04-09T13:57:41.684931",
     "status": "completed"
    },
    "tags": []
   },
   "outputs": [
    {
     "data": {
      "text/plain": [
       "Product\n",
       "USB-C Charging Cable          0.118154\n",
       "Lightning Charging Cable      0.116559\n",
       "AAA Batteries (4-pack)        0.111315\n",
       "AA Batteries (4-pack)         0.110410\n",
       "Wired Headphones              0.101773\n",
       "Apple Airpods Headphones      0.083501\n",
       "Bose SoundSport Headphones    0.071644\n",
       "27in FHD Monitor              0.040286\n",
       "iPhone                        0.036602\n",
       "27in 4K Gaming Monitor        0.033516\n",
       "34in Ultrawide Monitor        0.033226\n",
       "Google Phone                  0.029781\n",
       "Flatscreen TV                 0.025720\n",
       "Macbook Pro Laptop            0.025343\n",
       "ThinkPad Laptop               0.022118\n",
       "20in Monitor                  0.021932\n",
       "Vareebadd Phone               0.011079\n",
       "LG Washing Machine            0.003544\n",
       "LG Dryer                      0.003498\n",
       "Name: proportion, dtype: float64"
      ]
     },
     "execution_count": 19,
     "metadata": {},
     "output_type": "execute_result"
    }
   ],
   "source": [
    "# Top Ordered Products \n",
    "df['Product'].value_counts(normalize=True)"
   ]
  },
  {
   "cell_type": "markdown",
   "id": "afedf468",
   "metadata": {
    "papermill": {
     "duration": 0.019346,
     "end_time": "2024-04-09T13:57:41.787334",
     "exception": false,
     "start_time": "2024-04-09T13:57:41.767988",
     "status": "completed"
    },
    "tags": []
   },
   "source": [
    "**We Found USB-C Charging Cable,Lighting Charging Cable,AAA Batteries (4-pack),AA Batteries (4-pack) are most orderd Product**"
   ]
  },
  {
   "cell_type": "code",
   "execution_count": 20,
   "id": "f9bf05b8",
   "metadata": {
    "execution": {
     "iopub.execute_input": "2024-04-09T13:57:41.828278Z",
     "iopub.status.busy": "2024-04-09T13:57:41.827851Z",
     "iopub.status.idle": "2024-04-09T13:57:42.274959Z",
     "shell.execute_reply": "2024-04-09T13:57:42.273740Z"
    },
    "papermill": {
     "duration": 0.470504,
     "end_time": "2024-04-09T13:57:42.277428",
     "exception": false,
     "start_time": "2024-04-09T13:57:41.806924",
     "status": "completed"
    },
    "tags": []
   },
   "outputs": [
    {
     "data": {
      "image/png": "[encoded data removed]",
      "text/plain": [
       "<Figure size 800x800 with 1 Axes>"
      ]
     },
     "metadata": {},
     "output_type": "display_data"
    }
   ],
   "source": [
    "# Lets  see thier Distribution \n",
    "top_5_product=df['Product'].value_counts()[:10]\n",
    "plt.figure(figsize=(8,8))\n",
    "plt.pie(top_5_product, autopct='%0.2f',labels=top_5_product.index)\n",
    "plt.title('Top 5 Product')\n",
    "plt.show()"
   ]
  },
  {
   "cell_type": "markdown",
   "id": "48983900",
   "metadata": {
    "papermill": {
     "duration": 0.020633,
     "end_time": "2024-04-09T13:57:42.319189",
     "exception": false,
     "start_time": "2024-04-09T13:57:42.298556",
     "status": "completed"
    },
    "tags": []
   },
   "source": [
    "**We Found USB-C Charging Cable,Lighting Charging Cable,AAA Batteries (4-pack),AA Batteries (4-pack),Wired Headphones are top orderd Products**"
   ]
  },
  {
   "cell_type": "markdown",
   "id": "be990428",
   "metadata": {
    "papermill": {
     "duration": 0.020118,
     "end_time": "2024-04-09T13:57:42.360013",
     "exception": false,
     "start_time": "2024-04-09T13:57:42.339895",
     "status": "completed"
    },
    "tags": []
   },
   "source": [
    "# **Orders-State**"
   ]
  },
  {
   "cell_type": "code",
   "execution_count": 21,
   "id": "ec577b8c",
   "metadata": {
    "execution": {
     "iopub.execute_input": "2024-04-09T13:57:42.403283Z",
     "iopub.status.busy": "2024-04-09T13:57:42.402565Z",
     "iopub.status.idle": "2024-04-09T13:57:42.674439Z",
     "shell.execute_reply": "2024-04-09T13:57:42.672501Z"
    },
    "papermill": {
     "duration": 0.29666,
     "end_time": "2024-04-09T13:57:42.677529",
     "exception": false,
     "start_time": "2024-04-09T13:57:42.380869",
     "status": "completed"
    },
    "tags": []
   },
   "outputs": [
    {
     "data": {
      "image/png": "[encoded data removed]",
      "text/plain": [
       "<Figure size 800x800 with 1 Axes>"
      ]
     },
     "metadata": {},
     "output_type": "display_data"
    }
   ],
   "source": [
    "# Now We Find Which Cities Orders Most Products\n",
    "top_5_state=df['State'].value_counts()[:10]\n",
    "plt.figure(figsize=(8,8))\n",
    "plt.pie(top_5_state, autopct='%0.2f',labels=top_5_state.index)\n",
    "plt.title('Top States')\n",
    "plt.show()\n"
   ]
  },
  {
   "cell_type": "markdown",
   "id": "bad0e269",
   "metadata": {
    "papermill": {
     "duration": 0.022069,
     "end_time": "2024-04-09T13:57:42.722505",
     "exception": false,
     "start_time": "2024-04-09T13:57:42.700436",
     "status": "completed"
    },
    "tags": []
   },
   "source": [
    "**Most Orders recived from these 5 States California,New york,Texas,ManChester,Geogia . \n",
    "We recieved Most Orders from California**"
   ]
  },
  {
   "cell_type": "markdown",
   "id": "c6e43e31",
   "metadata": {
    "papermill": {
     "duration": 0.020851,
     "end_time": "2024-04-09T13:57:42.764524",
     "exception": false,
     "start_time": "2024-04-09T13:57:42.743673",
     "status": "completed"
    },
    "tags": []
   },
   "source": [
    "# **Orders-City**"
   ]
  },
  {
   "cell_type": "code",
   "execution_count": 22,
   "id": "55676ed5",
   "metadata": {
    "execution": {
     "iopub.execute_input": "2024-04-09T13:57:42.809957Z",
     "iopub.status.busy": "2024-04-09T13:57:42.809258Z",
     "iopub.status.idle": "2024-04-09T13:57:43.092835Z",
     "shell.execute_reply": "2024-04-09T13:57:43.091702Z"
    },
    "papermill": {
     "duration": 0.309324,
     "end_time": "2024-04-09T13:57:43.095780",
     "exception": false,
     "start_time": "2024-04-09T13:57:42.786456",
     "status": "completed"
    },
    "tags": []
   },
   "outputs": [
    {
     "data": {
      "image/png": "[encoded data removed]",
      "text/plain": [
       "<Figure size 800x800 with 1 Axes>"
      ]
     },
     "metadata": {},
     "output_type": "display_data"
    }
   ],
   "source": [
    "# Now we finds most Orders from State\n",
    "top_5_city=df['City'].value_counts()[:10]\n",
    "plt.figure(figsize=(8,8))\n",
    "plt.pie(top_5_city, autopct='%0.2f',labels=top_5_city.index)\n",
    "plt.title('Top Cities')\n",
    "plt.show()"
   ]
  },
  {
   "cell_type": "markdown",
   "id": "ae51f1e4",
   "metadata": {
    "papermill": {
     "duration": 0.025452,
     "end_time": "2024-04-09T13:57:43.143238",
     "exception": false,
     "start_time": "2024-04-09T13:57:43.117786",
     "status": "completed"
    },
    "tags": []
   },
   "source": [
    "**Most Orders recived from these 5 Cities San Francisco,Los Angeles,New York city,Boston, Atlanta.\n",
    "We recieved Most Orders from San Francisco**"
   ]
  },
  {
   "cell_type": "markdown",
   "id": "8e634570",
   "metadata": {
    "papermill": {
     "duration": 0.022758,
     "end_time": "2024-04-09T13:57:43.188507",
     "exception": false,
     "start_time": "2024-04-09T13:57:43.165749",
     "status": "completed"
    },
    "tags": []
   },
   "source": [
    "# **Month Wise-Orders**"
   ]
  },
  {
   "cell_type": "code",
   "execution_count": 23,
   "id": "b164aa04",
   "metadata": {
    "execution": {
     "iopub.execute_input": "2024-04-09T13:57:43.235463Z",
     "iopub.status.busy": "2024-04-09T13:57:43.235042Z",
     "iopub.status.idle": "2024-04-09T13:57:43.716440Z",
     "shell.execute_reply": "2024-04-09T13:57:43.715161Z"
    },
    "papermill": {
     "duration": 0.508169,
     "end_time": "2024-04-09T13:57:43.718959",
     "exception": false,
     "start_time": "2024-04-09T13:57:43.210790",
     "status": "completed"
    },
    "tags": []
   },
   "outputs": [
    {
     "data": {
      "text/plain": [
       "<function matplotlib.pyplot.show(close=None, block=None)>"
      ]
     },
     "execution_count": 23,
     "metadata": {},
     "output_type": "execute_result"
    },
    {
     "data": {
      "image/png": "[encoded data removed]",
      "text/plain": [
       "<Figure size 1000x600 with 1 Axes>"
      ]
     },
     "metadata": {},
     "output_type": "display_data"
    }
   ],
   "source": [
    "# Lest Find months to Orders\n",
    "df['month']=df['Order Date'].dt.month\n",
    "plt.figure(figsize=(10,6))\n",
    "ax1=sns.countplot(x='month',data=df,palette='bright')\n",
    "for bars in ax1.containers:\n",
    "    ax1.bar_label(bars)\n",
    "plt.xlabel('Month')\n",
    "plt.ylabel('Number of Orders')\n",
    "plt.title('Month wise Order Status',size=20)\n",
    "plt.show"
   ]
  },
  {
   "cell_type": "markdown",
   "id": "49d1a889",
   "metadata": {
    "execution": {
     "iopub.execute_input": "2024-04-09T12:22:46.894761Z",
     "iopub.status.busy": "2024-04-09T12:22:46.894311Z",
     "iopub.status.idle": "2024-04-09T12:22:46.900248Z",
     "shell.execute_reply": "2024-04-09T12:22:46.899040Z",
     "shell.execute_reply.started": "2024-04-09T12:22:46.894727Z"
    },
    "papermill": {
     "duration": 0.023224,
     "end_time": "2024-04-09T13:57:43.766499",
     "exception": false,
     "start_time": "2024-04-09T13:57:43.743275",
     "status": "completed"
    },
    "tags": []
   },
   "source": [
    "**We Have most orders in December,May be Due to Chrismas, We see in month of June may be the Data is not present**"
   ]
  },
  {
   "cell_type": "markdown",
   "id": "bc3e1ebf",
   "metadata": {
    "papermill": {
     "duration": 0.022657,
     "end_time": "2024-04-09T13:57:43.812451",
     "exception": false,
     "start_time": "2024-04-09T13:57:43.789794",
     "status": "completed"
    },
    "tags": []
   },
   "source": [
    "# **Day Wise-Orders**"
   ]
  },
  {
   "cell_type": "code",
   "execution_count": 24,
   "id": "fb11f9a4",
   "metadata": {
    "execution": {
     "iopub.execute_input": "2024-04-09T13:57:43.860233Z",
     "iopub.status.busy": "2024-04-09T13:57:43.859776Z",
     "iopub.status.idle": "2024-04-09T13:57:44.685823Z",
     "shell.execute_reply": "2024-04-09T13:57:44.684448Z"
    },
    "papermill": {
     "duration": 0.853526,
     "end_time": "2024-04-09T13:57:44.688986",
     "exception": false,
     "start_time": "2024-04-09T13:57:43.835460",
     "status": "completed"
    },
    "tags": []
   },
   "outputs": [
    {
     "data": {
      "text/plain": [
       "<function matplotlib.pyplot.show(close=None, block=None)>"
      ]
     },
     "execution_count": 24,
     "metadata": {},
     "output_type": "execute_result"
    },
    {
     "data": {
      "image/png": "[encoded data removed]",
      "text/plain": [
       "<Figure size 2200x800 with 1 Axes>"
      ]
     },
     "metadata": {},
     "output_type": "display_data"
    }
   ],
   "source": [
    "# Lets find Day to orders\n",
    "df['day']=df['Order Date'].dt.day\n",
    "plt.figure(figsize=(22,8))\n",
    "ax1=sns.countplot(x='day',data=df,palette='bright')\n",
    "for bars in ax1.containers:\n",
    "    ax1.bar_label(bars)\n",
    "plt.xlabel('Day')\n",
    "plt.ylabel('Number of Orders')\n",
    "plt.title('Day wise Order Status',size=20)\n",
    "plt.show"
   ]
  },
  {
   "cell_type": "markdown",
   "id": "558701ed",
   "metadata": {
    "papermill": {
     "duration": 0.026027,
     "end_time": "2024-04-09T13:57:44.742277",
     "exception": false,
     "start_time": "2024-04-09T13:57:44.716250",
     "status": "completed"
    },
    "tags": []
   },
   "source": [
    "**We Have Days most orders Equally distributed, We see on Each month of 31st Orders are less , may be due to Month End**"
   ]
  },
  {
   "cell_type": "markdown",
   "id": "ed34d5e8",
   "metadata": {
    "papermill": {
     "duration": 0.02598,
     "end_time": "2024-04-09T13:57:44.794556",
     "exception": false,
     "start_time": "2024-04-09T13:57:44.768576",
     "status": "completed"
    },
    "tags": []
   },
   "source": [
    "# **Products-Revenue**"
   ]
  },
  {
   "cell_type": "code",
   "execution_count": 25,
   "id": "1d19012a",
   "metadata": {
    "execution": {
     "iopub.execute_input": "2024-04-09T13:57:44.846629Z",
     "iopub.status.busy": "2024-04-09T13:57:44.846216Z",
     "iopub.status.idle": "2024-04-09T13:57:44.887057Z",
     "shell.execute_reply": "2024-04-09T13:57:44.885749Z"
    },
    "papermill": {
     "duration": 0.070511,
     "end_time": "2024-04-09T13:57:44.889930",
     "exception": false,
     "start_time": "2024-04-09T13:57:44.819419",
     "status": "completed"
    },
    "tags": []
   },
   "outputs": [
    {
     "data": {
      "text/html": [
       "<div>\n",
       "<style scoped>\n",
       "    .dataframe tbody tr th:only-of-type {\n",
       "        vertical-align: middle;\n",
       "    }\n",
       "\n",
       "    .dataframe tbody tr th {\n",
       "        vertical-align: top;\n",
       "    }\n",
       "\n",
       "    .dataframe thead th {\n",
       "        text-align: right;\n",
       "    }\n",
       "</style>\n",
       "<table border=\"1\" class=\"dataframe\">\n",
       "  <thead>\n",
       "    <tr style=\"text-align: right;\">\n",
       "      <th></th>\n",
       "      <th>Product</th>\n",
       "      <th>Total Sales</th>\n",
       "    </tr>\n",
       "  </thead>\n",
       "  <tbody>\n",
       "    <tr>\n",
       "      <th>13</th>\n",
       "      <td>Macbook Pro Laptop</td>\n",
       "      <td>7432400.00</td>\n",
       "    </tr>\n",
       "    <tr>\n",
       "      <th>18</th>\n",
       "      <td>iPhone</td>\n",
       "      <td>4421900.00</td>\n",
       "    </tr>\n",
       "    <tr>\n",
       "      <th>14</th>\n",
       "      <td>ThinkPad Laptop</td>\n",
       "      <td>3814961.85</td>\n",
       "    </tr>\n",
       "    <tr>\n",
       "      <th>9</th>\n",
       "      <td>Google Phone</td>\n",
       "      <td>3084600.00</td>\n",
       "    </tr>\n",
       "    <tr>\n",
       "      <th>1</th>\n",
       "      <td>27in 4K Gaming Monitor</td>\n",
       "      <td>2258822.08</td>\n",
       "    </tr>\n",
       "    <tr>\n",
       "      <th>3</th>\n",
       "      <td>34in Ultrawide Monitor</td>\n",
       "      <td>2183042.55</td>\n",
       "    </tr>\n",
       "    <tr>\n",
       "      <th>6</th>\n",
       "      <td>Apple Airpods Headphones</td>\n",
       "      <td>2174100.00</td>\n",
       "    </tr>\n",
       "    <tr>\n",
       "      <th>8</th>\n",
       "      <td>Flatscreen TV</td>\n",
       "      <td>1335600.00</td>\n",
       "    </tr>\n",
       "    <tr>\n",
       "      <th>7</th>\n",
       "      <td>Bose SoundSport Headphones</td>\n",
       "      <td>1247175.27</td>\n",
       "    </tr>\n",
       "    <tr>\n",
       "      <th>2</th>\n",
       "      <td>27in FHD Monitor</td>\n",
       "      <td>1047230.18</td>\n",
       "    </tr>\n",
       "    <tr>\n",
       "      <th>16</th>\n",
       "      <td>Vareebadd Phone</td>\n",
       "      <td>765200.00</td>\n",
       "    </tr>\n",
       "    <tr>\n",
       "      <th>0</th>\n",
       "      <td>20in Monitor</td>\n",
       "      <td>418841.92</td>\n",
       "    </tr>\n",
       "    <tr>\n",
       "      <th>11</th>\n",
       "      <td>LG Washing Machine</td>\n",
       "      <td>366600.00</td>\n",
       "    </tr>\n",
       "    <tr>\n",
       "      <th>10</th>\n",
       "      <td>LG Dryer</td>\n",
       "      <td>361800.00</td>\n",
       "    </tr>\n",
       "    <tr>\n",
       "      <th>12</th>\n",
       "      <td>Lightning Charging Cable</td>\n",
       "      <td>321858.55</td>\n",
       "    </tr>\n",
       "    <tr>\n",
       "      <th>15</th>\n",
       "      <td>USB-C Charging Cable</td>\n",
       "      <td>266473.05</td>\n",
       "    </tr>\n",
       "    <tr>\n",
       "      <th>17</th>\n",
       "      <td>Wired Headphones</td>\n",
       "      <td>228781.19</td>\n",
       "    </tr>\n",
       "    <tr>\n",
       "      <th>4</th>\n",
       "      <td>AA Batteries (4-pack)</td>\n",
       "      <td>98073.60</td>\n",
       "    </tr>\n",
       "    <tr>\n",
       "      <th>5</th>\n",
       "      <td>AAA Batteries (4-pack)</td>\n",
       "      <td>86282.43</td>\n",
       "    </tr>\n",
       "  </tbody>\n",
       "</table>\n",
       "</div>"
      ],
      "text/plain": [
       "                       Product  Total Sales\n",
       "13          Macbook Pro Laptop   7432400.00\n",
       "18                      iPhone   4421900.00\n",
       "14             ThinkPad Laptop   3814961.85\n",
       "9                 Google Phone   3084600.00\n",
       "1       27in 4K Gaming Monitor   2258822.08\n",
       "3       34in Ultrawide Monitor   2183042.55\n",
       "6     Apple Airpods Headphones   2174100.00\n",
       "8                Flatscreen TV   1335600.00\n",
       "7   Bose SoundSport Headphones   1247175.27\n",
       "2             27in FHD Monitor   1047230.18\n",
       "16             Vareebadd Phone    765200.00\n",
       "0                 20in Monitor    418841.92\n",
       "11          LG Washing Machine    366600.00\n",
       "10                    LG Dryer    361800.00\n",
       "12    Lightning Charging Cable    321858.55\n",
       "15        USB-C Charging Cable    266473.05\n",
       "17            Wired Headphones    228781.19\n",
       "4        AA Batteries (4-pack)     98073.60\n",
       "5       AAA Batteries (4-pack)     86282.43"
      ]
     },
     "execution_count": 25,
     "metadata": {},
     "output_type": "execute_result"
    }
   ],
   "source": [
    "# Now finds Revenue Generated most from Which Product\n",
    "df.groupby(['Product'],as_index=False)['Total Sales'].sum().sort_values(by='Total Sales',ascending=False)"
   ]
  },
  {
   "cell_type": "code",
   "execution_count": 26,
   "id": "18552a23",
   "metadata": {
    "execution": {
     "iopub.execute_input": "2024-04-09T13:57:44.942281Z",
     "iopub.status.busy": "2024-04-09T13:57:44.941871Z",
     "iopub.status.idle": "2024-04-09T13:57:45.289136Z",
     "shell.execute_reply": "2024-04-09T13:57:45.287965Z"
    },
    "papermill": {
     "duration": 0.376786,
     "end_time": "2024-04-09T13:57:45.291801",
     "exception": false,
     "start_time": "2024-04-09T13:57:44.915015",
     "status": "completed"
    },
    "tags": []
   },
   "outputs": [
    {
     "data": {
      "image/png": "[encoded data removed]",
      "text/plain": [
       "<Figure size 640x480 with 1 Axes>"
      ]
     },
     "metadata": {},
     "output_type": "display_data"
    }
   ],
   "source": [
    "# Now finds Revenue Generated most from Which Product\n",
    "sales_product=df.groupby(['Product'],as_index=False)['Total Sales'].sum().sort_values(by='Total Sales',ascending=False).head(5)\n",
    "ax=sns.barplot(x='Product',data=sales_product,y='Total Sales')\n",
    "sns.set(rc={'figure.figsize':(10,5)})\n",
    "for bars in ax.containers:\n",
    "    ax.bar_label(bars)"
   ]
  },
  {
   "cell_type": "markdown",
   "id": "e926a4eb",
   "metadata": {
    "execution": {
     "iopub.execute_input": "2024-04-09T12:50:25.309460Z",
     "iopub.status.busy": "2024-04-09T12:50:25.309070Z",
     "iopub.status.idle": "2024-04-09T12:50:25.968421Z",
     "shell.execute_reply": "2024-04-09T12:50:25.967277Z",
     "shell.execute_reply.started": "2024-04-09T12:50:25.309430Z"
    },
    "papermill": {
     "duration": 0.025468,
     "end_time": "2024-04-09T13:57:45.343388",
     "exception": false,
     "start_time": "2024-04-09T13:57:45.317920",
     "status": "completed"
    },
    "tags": []
   },
   "source": [
    "**We find Most Revenue generated from Mackbook Pro Laptop which is $7432400**"
   ]
  },
  {
   "cell_type": "markdown",
   "id": "957acb61",
   "metadata": {
    "papermill": {
     "duration": 0.030774,
     "end_time": "2024-04-09T13:57:45.400556",
     "exception": false,
     "start_time": "2024-04-09T13:57:45.369782",
     "status": "completed"
    },
    "tags": []
   },
   "source": [
    "# **Products-Revenue-City**"
   ]
  },
  {
   "cell_type": "code",
   "execution_count": 27,
   "id": "db3abb18",
   "metadata": {
    "execution": {
     "iopub.execute_input": "2024-04-09T13:57:45.456458Z",
     "iopub.status.busy": "2024-04-09T13:57:45.456037Z",
     "iopub.status.idle": "2024-04-09T13:57:45.489562Z",
     "shell.execute_reply": "2024-04-09T13:57:45.488274Z"
    },
    "papermill": {
     "duration": 0.064948,
     "end_time": "2024-04-09T13:57:45.492331",
     "exception": false,
     "start_time": "2024-04-09T13:57:45.427383",
     "status": "completed"
    },
    "tags": []
   },
   "outputs": [
    {
     "data": {
      "text/html": [
       "<div>\n",
       "<style scoped>\n",
       "    .dataframe tbody tr th:only-of-type {\n",
       "        vertical-align: middle;\n",
       "    }\n",
       "\n",
       "    .dataframe tbody tr th {\n",
       "        vertical-align: top;\n",
       "    }\n",
       "\n",
       "    .dataframe thead th {\n",
       "        text-align: right;\n",
       "    }\n",
       "</style>\n",
       "<table border=\"1\" class=\"dataframe\">\n",
       "  <thead>\n",
       "    <tr style=\"text-align: right;\">\n",
       "      <th></th>\n",
       "      <th>City</th>\n",
       "      <th>Total Sales</th>\n",
       "    </tr>\n",
       "  </thead>\n",
       "  <tbody>\n",
       "    <tr>\n",
       "      <th>7</th>\n",
       "      <td>San Francisco</td>\n",
       "      <td>7648596.40</td>\n",
       "    </tr>\n",
       "    <tr>\n",
       "      <th>4</th>\n",
       "      <td>Los Angeles</td>\n",
       "      <td>5002316.65</td>\n",
       "    </tr>\n",
       "    <tr>\n",
       "      <th>5</th>\n",
       "      <td>New York City</td>\n",
       "      <td>4340442.83</td>\n",
       "    </tr>\n",
       "    <tr>\n",
       "      <th>2</th>\n",
       "      <td>Boston</td>\n",
       "      <td>3406782.14</td>\n",
       "    </tr>\n",
       "    <tr>\n",
       "      <th>3</th>\n",
       "      <td>Dallas</td>\n",
       "      <td>2579077.70</td>\n",
       "    </tr>\n",
       "    <tr>\n",
       "      <th>0</th>\n",
       "      <td>Atlanta</td>\n",
       "      <td>2576103.07</td>\n",
       "    </tr>\n",
       "    <tr>\n",
       "      <th>8</th>\n",
       "      <td>Seattle</td>\n",
       "      <td>2533901.96</td>\n",
       "    </tr>\n",
       "    <tr>\n",
       "      <th>6</th>\n",
       "      <td>Portland</td>\n",
       "      <td>2150911.37</td>\n",
       "    </tr>\n",
       "    <tr>\n",
       "      <th>1</th>\n",
       "      <td>Austin</td>\n",
       "      <td>1675610.55</td>\n",
       "    </tr>\n",
       "  </tbody>\n",
       "</table>\n",
       "</div>"
      ],
      "text/plain": [
       "            City  Total Sales\n",
       "7  San Francisco   7648596.40\n",
       "4    Los Angeles   5002316.65\n",
       "5  New York City   4340442.83\n",
       "2         Boston   3406782.14\n",
       "3         Dallas   2579077.70\n",
       "0        Atlanta   2576103.07\n",
       "8        Seattle   2533901.96\n",
       "6       Portland   2150911.37\n",
       "1         Austin   1675610.55"
      ]
     },
     "execution_count": 27,
     "metadata": {},
     "output_type": "execute_result"
    }
   ],
   "source": [
    "# Now lest see in which city get most revenue\n",
    "df.groupby(['City'],as_index=False)['Total Sales'].sum().sort_values(by='Total Sales',ascending=False)"
   ]
  },
  {
   "cell_type": "code",
   "execution_count": 28,
   "id": "f5a67f92",
   "metadata": {
    "execution": {
     "iopub.execute_input": "2024-04-09T13:57:45.550162Z",
     "iopub.status.busy": "2024-04-09T13:57:45.549226Z",
     "iopub.status.idle": "2024-04-09T13:57:45.961512Z",
     "shell.execute_reply": "2024-04-09T13:57:45.960574Z"
    },
    "papermill": {
     "duration": 0.444038,
     "end_time": "2024-04-09T13:57:45.963691",
     "exception": false,
     "start_time": "2024-04-09T13:57:45.519653",
     "status": "completed"
    },
    "tags": []
   },
   "outputs": [
    {
     "data": {
      "image/png": "[encoded data removed]",
      "text/plain": [
       "<Figure size 1000x500 with 1 Axes>"
      ]
     },
     "metadata": {},
     "output_type": "display_data"
    }
   ],
   "source": [
    "# Now lest see in which city get most revenue\n",
    "sales_city=df.groupby(['City'],as_index=False)['Total Sales'].sum().sort_values(by='Total Sales',ascending=False).head(5)\n",
    "ax=sns.barplot(x='City',data=sales_city,y='Total Sales')\n",
    "sns.set(rc={'figure.figsize':(8,5)})\n",
    "for bars in ax.containers:\n",
    "    ax.bar_label(bars)"
   ]
  },
  {
   "cell_type": "markdown",
   "id": "c893eb75",
   "metadata": {
    "papermill": {
     "duration": 0.028124,
     "end_time": "2024-04-09T13:57:46.019566",
     "exception": false,
     "start_time": "2024-04-09T13:57:45.991442",
     "status": "completed"
    },
    "tags": []
   },
   "source": [
    "**We Have most orders from San Francisco City which is $7648596.40**"
   ]
  },
  {
   "cell_type": "markdown",
   "id": "81e73a2d",
   "metadata": {
    "papermill": {
     "duration": 0.029225,
     "end_time": "2024-04-09T13:57:46.076745",
     "exception": false,
     "start_time": "2024-04-09T13:57:46.047520",
     "status": "completed"
    },
    "tags": []
   },
   "source": [
    "# **Product-Revenue-State**"
   ]
  },
  {
   "cell_type": "code",
   "execution_count": 29,
   "id": "591df7d9",
   "metadata": {
    "execution": {
     "iopub.execute_input": "2024-04-09T13:57:46.136039Z",
     "iopub.status.busy": "2024-04-09T13:57:46.135592Z",
     "iopub.status.idle": "2024-04-09T13:57:46.168710Z",
     "shell.execute_reply": "2024-04-09T13:57:46.167787Z"
    },
    "papermill": {
     "duration": 0.065544,
     "end_time": "2024-04-09T13:57:46.171061",
     "exception": false,
     "start_time": "2024-04-09T13:57:46.105517",
     "status": "completed"
    },
    "tags": []
   },
   "outputs": [
    {
     "data": {
      "text/html": [
       "<div>\n",
       "<style scoped>\n",
       "    .dataframe tbody tr th:only-of-type {\n",
       "        vertical-align: middle;\n",
       "    }\n",
       "\n",
       "    .dataframe tbody tr th {\n",
       "        vertical-align: top;\n",
       "    }\n",
       "\n",
       "    .dataframe thead th {\n",
       "        text-align: right;\n",
       "    }\n",
       "</style>\n",
       "<table border=\"1\" class=\"dataframe\">\n",
       "  <thead>\n",
       "    <tr style=\"text-align: right;\">\n",
       "      <th></th>\n",
       "      <th>State</th>\n",
       "      <th>Total Sales</th>\n",
       "    </tr>\n",
       "  </thead>\n",
       "  <tbody>\n",
       "    <tr>\n",
       "      <th>0</th>\n",
       "      <td>CA</td>\n",
       "      <td>12650913.05</td>\n",
       "    </tr>\n",
       "    <tr>\n",
       "      <th>4</th>\n",
       "      <td>NY</td>\n",
       "      <td>4340442.83</td>\n",
       "    </tr>\n",
       "    <tr>\n",
       "      <th>6</th>\n",
       "      <td>TX</td>\n",
       "      <td>4254688.25</td>\n",
       "    </tr>\n",
       "    <tr>\n",
       "      <th>2</th>\n",
       "      <td>MA</td>\n",
       "      <td>3406782.14</td>\n",
       "    </tr>\n",
       "    <tr>\n",
       "      <th>1</th>\n",
       "      <td>GA</td>\n",
       "      <td>2576103.07</td>\n",
       "    </tr>\n",
       "    <tr>\n",
       "      <th>7</th>\n",
       "      <td>WA</td>\n",
       "      <td>2533901.96</td>\n",
       "    </tr>\n",
       "    <tr>\n",
       "      <th>5</th>\n",
       "      <td>OR</td>\n",
       "      <td>1731178.43</td>\n",
       "    </tr>\n",
       "    <tr>\n",
       "      <th>3</th>\n",
       "      <td>ME</td>\n",
       "      <td>419732.94</td>\n",
       "    </tr>\n",
       "  </tbody>\n",
       "</table>\n",
       "</div>"
      ],
      "text/plain": [
       "  State  Total Sales\n",
       "0    CA  12650913.05\n",
       "4    NY   4340442.83\n",
       "6    TX   4254688.25\n",
       "2    MA   3406782.14\n",
       "1    GA   2576103.07\n",
       "7    WA   2533901.96\n",
       "5    OR   1731178.43\n",
       "3    ME    419732.94"
      ]
     },
     "execution_count": 29,
     "metadata": {},
     "output_type": "execute_result"
    }
   ],
   "source": [
    "# Now lest see in which State get most revenue\n",
    "df.groupby(['State'],as_index=False)['Total Sales'].sum().sort_values(by='Total Sales',ascending=False)"
   ]
  },
  {
   "cell_type": "code",
   "execution_count": 30,
   "id": "744ea470",
   "metadata": {
    "execution": {
     "iopub.execute_input": "2024-04-09T13:57:46.229718Z",
     "iopub.status.busy": "2024-04-09T13:57:46.229253Z",
     "iopub.status.idle": "2024-04-09T13:57:46.626631Z",
     "shell.execute_reply": "2024-04-09T13:57:46.625169Z"
    },
    "papermill": {
     "duration": 0.430498,
     "end_time": "2024-04-09T13:57:46.629425",
     "exception": false,
     "start_time": "2024-04-09T13:57:46.198927",
     "status": "completed"
    },
    "tags": []
   },
   "outputs": [
    {
     "data": {
      "image/png": "[encoded data removed]",
      "text/plain": [
       "<Figure size 800x500 with 1 Axes>"
      ]
     },
     "metadata": {},
     "output_type": "display_data"
    }
   ],
   "source": [
    "# Now lest see in which State get most revenue\n",
    "sales_state=df.groupby(['State'],as_index=False)['Total Sales'].sum().sort_values(by='Total Sales',ascending=False).head(5)\n",
    "ax=sns.barplot(x='State',data=sales_state,y='Total Sales')\n",
    "sns.set(rc={'figure.figsize':(8,5)})\n",
    "for bars in ax.containers:\n",
    "    ax.bar_label(bars)"
   ]
  },
  {
   "cell_type": "markdown",
   "id": "f7e1e11c",
   "metadata": {
    "papermill": {
     "duration": 0.029697,
     "end_time": "2024-04-09T13:57:46.687464",
     "exception": false,
     "start_time": "2024-04-09T13:57:46.657767",
     "status": "completed"
    },
    "tags": []
   },
   "source": [
    "**We have most Orders from CAlifornia State which is $2650913.05**"
   ]
  },
  {
   "cell_type": "markdown",
   "id": "910e92cb",
   "metadata": {
    "papermill": {
     "duration": 0.028475,
     "end_time": "2024-04-09T13:57:46.744335",
     "exception": false,
     "start_time": "2024-04-09T13:57:46.715860",
     "status": "completed"
    },
    "tags": []
   },
   "source": [
    "# **Conclusion**\n",
    "We Have perform Statistics and EDA on the Electronics Data Set and We have strong Findings from it.\n",
    " \n",
    "1.We found **USB-C Charging Cable,Lighting Charging Cable,AAA Batteries (4-pack),AA Batteries (4-pack),Wired Headphones** ****are top orderd Products.\n",
    "\n",
    "2.Most Orders recived from these 5 States **California,New york,Texas,ManChester,Geogia** . We recieved Most Orders from **California**.\n",
    "\n",
    "3.\n",
    "Most Orders recived from these 5 Cities **San Francisco,Los Angeles,New York city,Boston, Atlanta**. We recieved Most Orders from **San Francisco**.\n",
    "\n",
    "4.We Have most orders in **December**,May be Due to **Chrismas**, We see in month of June may be the Data is not present.\n",
    "\n",
    "5.We Have **Days most orders Equally distributed**, We see on Each month of **31st Orders are less , may be due to Month End**.\n",
    "\n",
    "6.We find **Most Revenue** generated from **Mackbook Pro Laptop which is $7432400**.\n",
    "\n",
    "7.We Have **Most Revenue** from **San Francisco City which is $7648596**.\n",
    "\n",
    "8.We have **Most Revenue** from **CAlifornia State which is $2650913.05**\n",
    "\n"
   ]
  },
  {
   "cell_type": "markdown",
   "id": "54e5d8fb",
   "metadata": {
    "papermill": {
     "duration": 0.027785,
     "end_time": "2024-04-09T13:57:46.799879",
     "exception": false,
     "start_time": "2024-04-09T13:57:46.772094",
     "status": "completed"
    },
    "tags": []
   },
   "source": [
    "# **Thank You**"
   ]
  }
 ],
 "metadata": {
  "kaggle": {
   "accelerator": "none",
   "dataSources": [
    {
     "datasetId": 4763842,
     "sourceId": 8073095,
     "sourceType": "datasetVersion"
    }
   ],
   "dockerImageVersionId": 30684,
   "isGpuEnabled": false,
   "isInternetEnabled": true,
   "language": "python",
   "sourceType": "notebook"
  },
  "kernelspec": {
   "display_name": "Python 3",
   "language": "python",
   "name": "python3"
  },
  "language_info": {
   "codemirror_mode": {
    "name": "ipython",
    "version": 3
   },
   "file_extension": ".py",
   "mimetype": "text/x-python",
   "name": "python",
   "nbconvert_exporter": "python",
   "pygments_lexer": "ipython3",
   "version": "3.10.13"
  },
  "papermill": {
   "default_parameters": {},
   "duration": 15.725529,
   "end_time": "2024-04-09T13:57:47.553549",
   "environment_variables": {},
   "exception": null,
   "input_path": "__notebook__.ipynb",
   "output_path": "__notebook__.ipynb",
   "parameters": {},
   "start_time": "2024-04-09T13:57:31.828020",
   "version": "2.5.0"
  }
 },
 "nbformat": 4,
 "nbformat_minor": 5
}
